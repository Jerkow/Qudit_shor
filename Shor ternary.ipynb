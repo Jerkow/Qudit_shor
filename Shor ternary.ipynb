{
 "cells": [
  {
   "cell_type": "code",
   "execution_count": 1,
   "metadata": {},
   "outputs": [],
   "source": [
    "import numpy as np"
   ]
  },
  {
   "cell_type": "code",
   "execution_count": 2,
   "metadata": {},
   "outputs": [
    {
     "name": "stdout",
     "output_type": "stream",
     "text": [
      "0\n"
     ]
    }
   ],
   "source": [
    "\"Implementing the basic qutrits\"\n",
    "def Qutrit(j):\n",
    "    Q0 = np.array([1,0,0])\n",
    "    Q1 = np.array([0,1,0])\n",
    "    Q2 = np.array([0,0,1])\n",
    "    if j == 0:\n",
    "        return(np.array([1,0,0]))\n",
    "    elif j == 1:\n",
    "        return(np.array([0,1,0]))\n",
    "    elif j == 2:\n",
    "        return(np.array([0,0,1]))\n",
    "def Qutrit_register(j):\n",
    "    for k in range(3):\n",
    "        if j[k] == 1:\n",
    "            return(k)\n",
    "\"A register is a list of qutrits, for example A = [[alpha,Beta,gamma],[alpha1,beta1,gamma1]]\"\n",
    "def Qutrit_proba(A):\n",
    "    return(np.array([A[0],A[1],A[2]]))\n",
    "print(Qutrit_register([1,0,0]))\n",
    "Q0 = np.array([1,0,0])\n",
    "Q1 = np.array([0,1,0])\n",
    "Q2 = np.array([0,0,1])\n",
    "\"Implementing basic unities\"\n",
    "i = np.complex(0,1)\n",
    "Id = np.array([[np.complex(1,0),np.complex(0,0),np.complex(0,0)],[np.complex(0,0),np.complex(1,0),np.complex(0,0)],[np.complex(0,0),np.complex(0,0),np.complex(1,0)]])\n",
    "\"Number of qudits\"\n",
    "q = 10"
   ]
  },
  {
   "cell_type": "code",
   "execution_count": 3,
   "metadata": {},
   "outputs": [],
   "source": [
    "\" Implementing the tensor product \"\n",
    "\" Tensor_product for a matrice\"\n",
    "def tensor_product_m(A,B):\n",
    "    m,n = A.shape\n",
    "    p,q = B.shape\n",
    "    AtensorB = np.zeros((m*p,n*q), dtype =\"complex\")\n",
    "    i_A,j_A,i_B,j_B = 0,0,0,0\n",
    "    for line in range(m*p):\n",
    "        i_A,i_B = line//p , line%p\n",
    "        for column in range(n*q):\n",
    "            j_A,j_B = column//q , column%q\n",
    "            AtensorB[line][column] = A[i_A][j_A]*B[i_B][j_B]\n",
    "    return AtensorB\n",
    "\"Tensor product for a row\"\n",
    "def tensor_product_r(A,B):\n",
    "    T = np.array([])\n",
    "    for k in range(A.shape[0]):\n",
    "        T = np.concatenate((T,A[k]*B),axis = None)\n",
    "    return(T)"
   ]
  },
  {
   "cell_type": "code",
   "execution_count": 4,
   "metadata": {},
   "outputs": [
    {
     "data": {
      "text/plain": [
       "'Function that given a vector gives you the correspondant register'"
      ]
     },
     "execution_count": 4,
     "metadata": {},
     "output_type": "execute_result"
    }
   ],
   "source": [
    "\"Function that given a register gives you the correspondant vector\"\n",
    "def register_to_vector(A):\n",
    "    vector = np.array(Qutrit(A[0]))\n",
    "    for j in A[1:]:\n",
    "        vector = tensor_product_r(vector,Qutrit(int(j)))\n",
    "    return(vector)\n",
    "# def register_to_vector_2(A):\n",
    "#     vector = np.array()\n",
    "\"Function that given a vector gives you the correspondant register\""
   ]
  },
  {
   "cell_type": "code",
   "execution_count": 5,
   "metadata": {},
   "outputs": [
    {
     "name": "stdout",
     "output_type": "stream",
     "text": [
      "(1+0j) (-0.4999999999999998+0.8660254037844387j) (-0.5000000000000004-0.8660254037844385j)\n"
     ]
    }
   ],
   "source": [
    "def racine_3_unite(x):\n",
    "    return(np.exp(np.complex(0,2*np.pi*x/3)))\n",
    "print(racine_3_unite(0),racine_3_unite(1),racine_3_unite(2))"
   ]
  },
  {
   "cell_type": "code",
   "execution_count": 6,
   "metadata": {
    "scrolled": true
   },
   "outputs": [],
   "source": [
    "\" Compute the Hadamard gate\"\n",
    "\n",
    "H = 1/np.sqrt(3)*np.array([[1,1,1],\n",
    "              [1,racine_3_unite(1),racine_3_unite(2)],\n",
    "              [1,racine_3_unite(2),racine_3_unite(4)]], dtype =\"complex\")"
   ]
  },
  {
   "cell_type": "code",
   "execution_count": 7,
   "metadata": {},
   "outputs": [],
   "source": [
    "\"Compute the Hadamard gate acting on qutrit m, knowing that there's q qutrit\"\n",
    "def H_gate(m,q):\n",
    "    if m == 0:\n",
    "        A = H\n",
    "    else :\n",
    "        A = Id\n",
    "    for k in range(1,q):\n",
    "        if k == m:\n",
    "            A = tensor_product_m(A,H)\n",
    "        else : \n",
    "            A = tensor_product_m(A,Id)\n",
    "    return(A)\n",
    "Q = tensor_product_r(tensor_product_r(Q1,Q0),Q0)"
   ]
  },
  {
   "cell_type": "code",
   "execution_count": 8,
   "metadata": {},
   "outputs": [],
   "source": [
    "\"Compute the rotational gate\"\n",
    "def racine_3_unite_2(l,m,al,bm):\n",
    "    return(np.exp((2*np.pi*i*al*bm)/(3**(m-l+1))))\n",
    "\"Function that given a number j, and a number of qutrits q, interpret the number as a 1 in a column of zeros, and gives you the tensor decomposition\"\n",
    "def number_to_tensorial_product(j,q):\n",
    "    A = np.array([])\n",
    "    def number_to_tensor(j,q,A):\n",
    "        if q == 1 :\n",
    "            A = np.concatenate((j,A),axis = None)\n",
    "            return(A)\n",
    "        else : \n",
    "            j1 = j//3\n",
    "            j2= j%3\n",
    "            A = np.concatenate((j2,A), axis = None)\n",
    "            return(number_to_tensor(j1,q-1,A))\n",
    "    return(number_to_tensor(j,q,A))\n",
    "\"Compute the rotational gate, knowing that there is q qutrits, acting on qubit l and m\"\n",
    "def rotational_gate(l,m,q):\n",
    "    A = np.zeros((3**q,3**q), dtype = \"complex\")\n",
    "    for j in range(3**q):\n",
    "        qutrits = number_to_tensorial_product(j,q)\n",
    "        A[j][j] = racine_3_unite_2(l,m,qutrits[l],qutrits[m])\n",
    "    return(A)\n",
    "    "
   ]
  },
  {
   "cell_type": "code",
   "execution_count": 9,
   "metadata": {},
   "outputs": [
    {
     "data": {
      "text/plain": [
       "array([[ 0.11111111+0.j        ,  0.11111111+0.j        ,\n",
       "         0.11111111+0.j        , ...,  0.11111111+0.j        ,\n",
       "         0.11111111+0.j        ,  0.11111111+0.j        ],\n",
       "       [ 0.11111111+0.j        , -0.05555556+0.09622504j,\n",
       "        -0.05555556-0.09622504j, ..., -0.04793179+0.10024082j,\n",
       "        -0.06284521-0.09163056j,  0.11077699-0.00861027j],\n",
       "       [ 0.11111111+0.j        , -0.05555556-0.09622504j,\n",
       "        -0.05555556+0.09622504j, ..., -0.0697569 -0.08648499j,\n",
       "        -0.04001975+0.10365374j,  0.10977665-0.01716875j],\n",
       "       ...,\n",
       "       [ 0.11111111+0.j        ,  0.11111111+0.j        ,\n",
       "         0.11111111+0.j        , ...,  0.1081161 +0.02562399j,\n",
       "         0.1081161 +0.02562399j,  0.1081161 +0.02562399j],\n",
       "       [ 0.11111111+0.j        , -0.05555556+0.09622504j,\n",
       "        -0.05555556-0.09622504j, ..., -0.0697569 +0.08648499j,\n",
       "        -0.04001975-0.10365374j,  0.10977665+0.01716875j],\n",
       "       [ 0.11111111+0.j        , -0.05555556-0.09622504j,\n",
       "        -0.05555556+0.09622504j, ..., -0.04793179-0.10024082j,\n",
       "        -0.06284521+0.09163056j,  0.11077699+0.00861027j]])"
      ]
     },
     "execution_count": 9,
     "metadata": {},
     "output_type": "execute_result"
    }
   ],
   "source": [
    "\"Compute the circuit, knowing that there are q qutrits\"\n",
    "\"we just compute a matrix product, that we apply it to a qutrit\"\n",
    "def circuit(q):\n",
    "    Circ = np.identity(3**q)\n",
    "    for k in range(0,q):\n",
    "        Circ = np.dot(Circ,H_gate(k,q))\n",
    "        for j in range(k+1,q):\n",
    "            Circ = np.dot(Circ,rotational_gate(k,j,q))\n",
    "    return(Circ)\n",
    "circuit(4)"
   ]
  },
  {
   "cell_type": "code",
   "execution_count": 10,
   "metadata": {},
   "outputs": [],
   "source": [
    "\"Reverse the obtained qutrit-register\"\n",
    "def reverse(A):\n",
    "    B = np.zeros(len(A))\n",
    "    for k in range(len(A)):\n",
    "        B[k] = A[len(A)-k-1]\n",
    "    return(B)"
   ]
  },
  {
   "cell_type": "code",
   "execution_count": 11,
   "metadata": {},
   "outputs": [],
   "source": [
    "qutrit_register = tensor_product_r(tensor_product_r(Q0,Q0),Q1)\n",
    "\"We compute the QFT to a qutrit register\"\n",
    "q = 3\n",
    "def compute_QFT(q,qutrit_register):\n",
    "    final_register = np.dot(circuit(q),qutrit_register)\n",
    "    return(final_register)\n",
    "final_register = compute_QFT(q,qutrit_register)"
   ]
  },
  {
   "cell_type": "code",
   "execution_count": 12,
   "metadata": {},
   "outputs": [],
   "source": [
    "\"We write the final vector as a dictionary with the square probability of each qutrit_register, but we before reverse it\"\n",
    "def vector_to_qutrit_probabilities(vec):\n",
    "    Liste = []\n",
    "    for k in range(len(vec)):\n",
    "        Liste.append([reverse(number_to_tensorial_product(k,q)),vec[k]])\n",
    "    return(Liste)\n",
    "final_liste = vector_to_qutrit_probabilities(final_register)"
   ]
  },
  {
   "cell_type": "code",
   "execution_count": 13,
   "metadata": {},
   "outputs": [
    {
     "data": {
      "text/plain": [
       "array([ 0.19245009+0.j        ,  0.19245009+0.j        ,\n",
       "        0.19245009+0.j        ,  0.19245009+0.j        ,\n",
       "        0.19245009+0.j        ,  0.19245009+0.j        ,\n",
       "        0.19245009+0.j        ,  0.19245009+0.j        ,\n",
       "        0.19245009+0.j        , -0.09622504+0.16666667j,\n",
       "       -0.09622504+0.16666667j, -0.09622504+0.16666667j,\n",
       "       -0.09622504+0.16666667j, -0.09622504+0.16666667j,\n",
       "       -0.09622504+0.16666667j, -0.09622504+0.16666667j,\n",
       "       -0.09622504+0.16666667j, -0.09622504+0.16666667j,\n",
       "       -0.09622504-0.16666667j, -0.09622504-0.16666667j,\n",
       "       -0.09622504-0.16666667j, -0.09622504-0.16666667j,\n",
       "       -0.09622504-0.16666667j, -0.09622504-0.16666667j,\n",
       "       -0.09622504-0.16666667j, -0.09622504-0.16666667j,\n",
       "       -0.09622504-0.16666667j])"
      ]
     },
     "execution_count": 13,
     "metadata": {},
     "output_type": "execute_result"
    }
   ],
   "source": [
    "\"We write it as a final vector\"\n",
    "def dico_to_vector(liste_proba):\n",
    "    vector = np.zeros((len(liste_proba)),dtype =\"complex\")\n",
    "    for k in range(len(liste_proba)):\n",
    "        vect = register_to_vector(liste_proba[k][0])\n",
    "        vector = vector + liste_proba[k][1]*vect\n",
    "    return(vector)\n",
    "dico_to_vector(final_liste)"
   ]
  },
  {
   "cell_type": "code",
   "execution_count": 14,
   "metadata": {},
   "outputs": [],
   "source": [
    "\"Coding the measure of a qutrit\"\n",
    "def measure(q):\n",
    "    x = np.random.random_sample()\n",
    "    T = 0\n",
    "    for k in range(len(q)):\n",
    "        T = T + q[k]\n",
    "        if x <= T:\n",
    "            return(k)"
   ]
  },
  {
   "cell_type": "code",
   "execution_count": 15,
   "metadata": {},
   "outputs": [],
   "source": [
    "\"Coding the inverse QFT\"\n",
    "\"Coding the inverse of a matrix\"\n",
    "def reverse_matrix(M):\n",
    "    return(np.linalg.inv(M))\n",
    "\"Inverse of the Hadamard gate\"\n",
    "def H_inv(m,q):\n",
    "    return(np.linalg.inv(H_gate(m,q)))\n",
    "\"Inverse of the Rotational gate\"\n",
    "def R_inv(l,m,q):\n",
    "    return(np.linalg.inv(rotational_gate(l,m,q)))"
   ]
  },
  {
   "cell_type": "code",
   "execution_count": 16,
   "metadata": {},
   "outputs": [],
   "source": [
    "\"Inversing the circuit\"\n",
    "def circuit_inv(q):\n",
    "    Circ = np.identity(3**q)\n",
    "    for k in range(0,q):\n",
    "        Circ = np.dot(H_inv(k,q),Circ)\n",
    "        for j in range(k+1,q):\n",
    "            Circ = np.dot(R_inv(k,j,q),Circ)\n",
    "    return(Circ)"
   ]
  },
  {
   "cell_type": "markdown",
   "metadata": {},
   "source": [
    "### Lets compute the adder\n"
   ]
  },
  {
   "cell_type": "code",
   "execution_count": 17,
   "metadata": {},
   "outputs": [],
   "source": [
    "\" Compute the Rotor Gate X \"\n",
    "X = np.array([[0,0,1],[1,0,0],[0,1,0]])\n",
    "\" Compute the inverse X gate \"\n",
    "X_inv = np.array([[0,1,0],[0,0,1],[1,0,0]])\n",
    "\" Compute the C_up_1_X gate\"\n",
    "def C_up_1_X():\n",
    "    A = np.identity(9)\n",
    "    for k in range(3,6):\n",
    "        for j in range(3,6):\n",
    "            A[k,j] = X[k-3,j-3]\n",
    "    return(A)\n",
    "\" Compute the C_up_1_X_inv gate\"\n",
    "def C_up_1_X_inv():\n",
    "    A = np.identity(9)\n",
    "    for k in range(3,6):\n",
    "        for j in range(3,6):\n",
    "            A[k,j] = X_inv[k-3,j-3]\n",
    "    return(A)\n",
    "\"Compute the C_up_2_X gate\"\n",
    "def C_up_2_X():\n",
    "    A = np.identity(9)\n",
    "    for k in range(6,9):\n",
    "        for j in range(6,9):\n",
    "            A[k,j] = X[k-6,j-6]\n",
    "    return(A)\n",
    "\"Compute the C_up_2_X_inv gate\"\n",
    "def C_up_2_X_inv():\n",
    "    A = np.identity(9)\n",
    "    for k in range(6,9):\n",
    "        for j in range(6,9):\n",
    "            A[k,j] = X_inv[k-6,j-6]\n",
    "    return(A)"
   ]
  },
  {
   "cell_type": "code",
   "execution_count": 29,
   "metadata": {},
   "outputs": [
    {
     "name": "stdout",
     "output_type": "stream",
     "text": [
      "[0. 0. 0. 0. 0. 0. 0. 1. 0.]\n"
     ]
    }
   ],
   "source": [
    "\"Compute the SUM gate on 2 qutrits\"\n",
    "\"Output : matrix representing the sum gate\"\n",
    "# def SUM_gate(L):\n",
    "#     X_f = np.linalg.matrix_power(X,L[0])\n",
    "#     j_f = np.dot(X_f,Qutrit(L[1]))\n",
    "#     return([L[0],Qutrit_register(j_f)])\n",
    "def SUM():\n",
    "    A = C_up_1_X()\n",
    "    B = C_up_2_X()\n",
    "    C = np.dot(A,B)\n",
    "    C = np.dot(C,B)\n",
    "    return(C)\n",
    "\"Compute the SUM_gate knowing that there is 1 upper qutrit\"\n",
    "SUM_gate_3_up = tensor_product_m(Id,SUM())\n",
    "\"Compute SUM_2 gate on 2 qutrits\"\n",
    "# def SUM_2gate(L):\n",
    "#     X_f = np.linalg.matrix_power(X_inv,L[0])\n",
    "#     j_f = np.dot(X_f,Qutrit(L[1]))\n",
    "#     return([L[0],Qutrit_register(j_f)])\n",
    "def SUM_2():\n",
    "    A = C_up_1_X_inv()\n",
    "    B = C_up_2_X_inv()\n",
    "    C = np.dot(A,B)\n",
    "    C = np.dot(C,B)\n",
    "    return(C)\n",
    "\"Compute the SUM_2gate knowing that there is 1 upper qutrit\"\n",
    "SUM_2gate_3_up = tensor_product_m(Id,SUM_2())\n",
    "Q0_Q1 = tensor_product_r(Q2,Q2)\n",
    "A = np.dot(SUM(),Q0_Q1)\n",
    "print(A)"
   ]
  },
  {
   "cell_type": "code",
   "execution_count": 19,
   "metadata": {},
   "outputs": [],
   "source": [
    "# \"Compute the Swap gate\"\n",
    "# def SWAP(L):\n",
    "#     return([L[1],L[0]])"
   ]
  },
  {
   "cell_type": "code",
   "execution_count": 20,
   "metadata": {},
   "outputs": [
    {
     "data": {
      "text/plain": [
       "'Output : the final 2 qutrit-register'"
      ]
     },
     "execution_count": 20,
     "metadata": {},
     "output_type": "execute_result"
    }
   ],
   "source": [
    "\"Compute Control_X\"\n",
    "\"Input : the parameter c to which we will compare the first qutrit\"\n",
    "\"Output : the final 2 qutrit-register\"\n",
    "# def C_X(c,L):\n",
    "#     if c == L[0]:\n",
    "#         j_f = np.dot(X,Qutrit(L[1]))\n",
    "#         j_f = Qutrit_register(j_f)\n",
    "#     else :\n",
    "#         j_f = L[1]\n",
    "#     return([L[0],j_f])\n",
    "# print(C_X(0,[0,1]))"
   ]
  },
  {
   "cell_type": "code",
   "execution_count": 21,
   "metadata": {},
   "outputs": [
    {
     "data": {
      "text/plain": [
       "'Input : the parameter c to which we will compare the first qutrit'"
      ]
     },
     "execution_count": 21,
     "metadata": {},
     "output_type": "execute_result"
    }
   ],
   "source": [
    "\"Compute the control Sum gate acting on 3 qutrits\"\n",
    "\"Input : the parameter c to which we will compare the first qutrit\"\n",
    "# def C_SUM(c,L):\n",
    "#     if c == L[0]:\n",
    "#         print(L[1:])\n",
    "#         F = SUM_gate(L[1:])\n",
    "#         print(F)\n",
    "#     else :\n",
    "#         F = L[1:]\n",
    "#     F.insert(0,L[0])\n",
    "#     return(F)\n",
    "# print(C_SUM(0,[0,1,0]))\n",
    "\n"
   ]
  },
  {
   "cell_type": "code",
   "execution_count": 22,
   "metadata": {},
   "outputs": [],
   "source": [
    "\"Compute S_0_1\"\n",
    "S_0_1 = np.array([[0,1,0],[1,0,0],[0,0,1]])\n",
    "\"Compute S_0_2\"\n",
    "S_0_2 = np.array([[0,0,1],[0,1,0],[1,0,0]])\n",
    "\"Compute S_1_2\"\n",
    "S_1_2 = np.array([[1,0,0],[0,0,1],[0,1,0]])"
   ]
  },
  {
   "cell_type": "code",
   "execution_count": 23,
   "metadata": {},
   "outputs": [],
   "source": [
    "\"Compute the control S_0_1 gate\"\n",
    "# def C_S_0_1(c,L):\n",
    "#     if c == L[0]:\n",
    "#         j_f = np.dot(S_0_1,Qutrit(L[1]))\n",
    "#         j_f = Qutrit_register(j_f)\n",
    "#     else :\n",
    "#         j_f = L[1]\n",
    "#     return([L[0],j_f])\n",
    "# print(C_S_0_1(0,[1,0]))\n",
    "def C_up_0_S_0_1():\n",
    "    A = np.identity(9)\n",
    "    for k in range(3):\n",
    "        for j in range(3):\n",
    "            A[k,j] = S_0_1[k,j]\n",
    "    return(A)\n",
    "def C_up_0_S_0_2():\n",
    "    A = np.identity(9)\n",
    "    for k in range(3):\n",
    "        for j in range(3):\n",
    "            A[k,j] = S_0_2[k,j]\n",
    "    return(A)\n",
    "def C_up_1_S_1_2():\n",
    "    A = np.identity(9)\n",
    "    for k in range(3,6):\n",
    "        for j in range(3,6):\n",
    "            A[k,j] = S_1_2[k-3,j-3]\n",
    "    return(A)\n",
    "def C_down_0_S_0_1():\n",
    "    A = np.identity(9)\n",
    "    A[0,0] = 0\n",
    "    A[0,3] = 1\n",
    "    A[3,3] = 0\n",
    "    A[3,0] = 1\n",
    "    return(A)\n",
    "def C_down_1_S_1_2():\n",
    "    A = np.identity(9)\n",
    "    A[4,4] = 0\n",
    "    A[7,4] = 1\n",
    "    A[4,7] = 1\n",
    "    A[7,7] = 0\n",
    "    return(A)\n",
    "def C_down_0_S_0_2():\n",
    "    A = np.identity(9)\n",
    "    A[0,0] = 0\n",
    "    A[0,6] = 1\n",
    "    A[6,6] = 0\n",
    "    A[6,0] = 1\n",
    "    return(A)"
   ]
  },
  {
   "cell_type": "code",
   "execution_count": 24,
   "metadata": {},
   "outputs": [],
   "source": [
    "\"Compute the matrix C_down_0_S_0_1 knowing that there is 1 down qutrit\"\n",
    "C_down_0_S_0_1_3_down = tensor_product_m(C_down_0_S_0_1(),Id)"
   ]
  },
  {
   "cell_type": "code",
   "execution_count": 25,
   "metadata": {},
   "outputs": [],
   "source": [
    "def SWAP_gate():\n",
    "    A = np.identity(9)\n",
    "    A = np.dot(C_up_0_S_0_1(),A)\n",
    "    A = np.dot(C_down_0_S_0_1(),A)\n",
    "    A = np.dot(C_up_0_S_0_1(),A)\n",
    "    A = np.dot(C_up_1_S_1_2(),A)\n",
    "    A = np.dot(C_down_1_S_1_2(),A)\n",
    "    A = np.dot(C_up_1_S_1_2(),A)\n",
    "    A = np.dot(C_up_0_S_0_2(),A)\n",
    "    A = np.dot(C_down_0_S_0_2(),A)\n",
    "    A = np.dot(C_up_0_S_0_2(),A)\n",
    "    return(A)\n",
    "\"SWAP 2 qutrit knowing that there is 1 up qutrit\"\n",
    "SWAP_3_up = tensor_product_m(Id,SWAP_gate())\n",
    "\"SWAP 2 qutrit knowing that there is 1 down qutrit\"\n",
    "SWAP_3_down = tensor_product_m(SWAP_gate(),Id)"
   ]
  },
  {
   "cell_type": "code",
   "execution_count": null,
   "metadata": {},
   "outputs": [],
   "source": []
  },
  {
   "cell_type": "code",
   "execution_count": 26,
   "metadata": {},
   "outputs": [
    {
     "name": "stdout",
     "output_type": "stream",
     "text": [
      "[[0 0 0 0 0 0 0 0 1]\n",
      " [0 1 0 0 0 0 0 0 0]\n",
      " [0 0 1 0 0 0 0 0 0]\n",
      " [0 0 0 1 0 0 0 0 0]\n",
      " [0 0 0 0 1 0 0 0 0]\n",
      " [0 0 0 0 0 1 0 0 0]\n",
      " [0 0 0 0 0 0 1 0 0]\n",
      " [0 0 0 0 0 0 0 1 0]\n",
      " [1 0 0 0 0 0 0 0 0]]\n"
     ]
    }
   ],
   "source": [
    "\"Compute the S_00_22 gate\"\n",
    "S_00_22 = np.array([[0,0,0,0,0,0,0,0,1],[0,1,0,0,0,0,0,0,0],[0,0,1,0,0,0,0,0,0],[0,0,0,1,0,0,0,0,0],[0,0,0,0,1,0,0,0,0],[0,0,0,0,0,1,0,0,0],[0,0,0,0,0,0,1,0,0],[0,0,0,0,0,0,0,1,0],[1,0,0,0,0,0,0,0,0]])\n",
    "print(S_00_22)\n",
    "\"Compute S_00_22 knowing that there is 1 up qutrit\"\n",
    "S_00_22_3_up = tensor_product_m(Id,S_00_22)"
   ]
  },
  {
   "cell_type": "code",
   "execution_count": 27,
   "metadata": {},
   "outputs": [
    {
     "name": "stdout",
     "output_type": "stream",
     "text": [
      "step_1 [0, 0, 0]\n",
      "step 2 [0, 0, 0]\n",
      "step 3 [0, 0, 0]\n",
      "step 4.1 [0, 0]\n",
      "step 4 [1, 0, 0]\n",
      "step 5 [0, 1, 0]\n",
      "[0, 0, 1]\n",
      "1\n",
      "new [0. 0. 1.]\n"
     ]
    }
   ],
   "source": [
    "\"Compute the Carry gate\"\n",
    "\"Input : a 3 qutrit register in his register form : L = [c_i,a_i,b_i]\"\n",
    "\"Output : a 3 qutrit register in his register form\"\n",
    "# def Carry2(L):\n",
    "#     vec_1 = register_to_vector(L)\n",
    "#     F = tensor_product_m(Id,S_00_22)\n",
    "#     step_1 = np.dot(F,vec_1)\n",
    "#     position = np.where(step_1 == 1)[0][0]\n",
    "#     step_1 = number_to_tensorial_product(position,3)\n",
    "#     step_1 = [int(step_1[0]),int(step_1[1]),int(step_1[2])]\n",
    "#     print(\"step_1\",step_1)\n",
    "#     step_2 = SUM_gate(step_1[1:])\n",
    "#     step_2.insert(0,step_1[0])\n",
    "#     print(\"step 2\",step_2)\n",
    "#     step_3 = [step_2[0],step_2[2]]\n",
    "#     step_3 = SUM_2gate(step_3)\n",
    "#     step_3.insert(1,step_2[1])\n",
    "#     print(\"step 3\",step_3)\n",
    "#     step_4 = [step_3[2],step_3[0]]\n",
    "#     print(\"step 4.1\",step_4)\n",
    "#     step_4 = C_S_0_1(0,step_4)\n",
    "#     step_4 = [step_4[1],step_3[1],step_4[0]]\n",
    "#     print(\"step 4\",step_4)\n",
    "#     step_5 = [step_4[0],step_4[1]]\n",
    "#     step_5 = SWAP(step_5)\n",
    "#     step_5.insert(2,step_4[2])\n",
    "#     print(\"step 5\",step_5)\n",
    "#     step_6 = [step_5[1],step_5[2]]\n",
    "#     step_6 = SWAP(step_6)\n",
    "#     step_6.insert(0,step_5[0])\n",
    "#     return(step_6)\n",
    "# print(Carry2([0,2,2]))\n",
    "    \n",
    "def Carry():\n",
    "    A = np.identity(27)\n",
    "    A = np.dot(A,S_00_22_3_up)\n",
    "    A = np.dot(SUM_gate_3_up,A)\n",
    "    A = np.dot(SWAP_3_down,A)\n",
    "    A = np.dot(SUM_2gate_3_up,A)\n",
    "    A = np.dot(SWAP_3_down,A)\n",
    "    A = np.dot(SWAP_3_up,A)\n",
    "    A = np.dot(C_down_0_S_0_1_3_down,A)\n",
    "    A = np.dot(SWAP_3_up,A)\n",
    "    A = np.dot(SWAP_3_down,A)\n",
    "    A = np.dot(SWAP_3_up,A)\n",
    "    return(A)\n",
    "Q0_Q0_Q0 = tensor_product_r(tensor_product_r(Q0,Q2),Q2)\n",
    "B = np.dot(Carry(),Q0_Q0_Q0)\n",
    "position = np.where(B == 1)[0][0]\n",
    "print(position)\n",
    "print(\"new\",number_to_tensorial_product(position,3))"
   ]
  },
  {
   "cell_type": "code",
   "execution_count": 30,
   "metadata": {},
   "outputs": [],
   "source": [
    "\"Compute the ripple-carry adder\"\n",
    "\"Input : two n qutrit register\"\n",
    "\"Output : two n qutrit register, on the second one the sum of the previous ones\"\n",
    "\"to_do :  reverse_qutrit_to_register_with probabilities\"\n",
    "\"A register is a list of qutrits, for example A = [[alpha,Beta,gamma],[alpha1,beta1,gamma1]]\"\n",
    "def Qutrit_proba(A):\n",
    "    return(np.array([A[0],A[1],A[2]]))\n",
    "def ripple_carry_adder(A,B):\n",
    "    c_0 = Q0\n",
    "    a_0 = Qutrit_proba(A[0])\n",
    "    b_0 = Qutrit_proba(B[0])\n",
    "    vector_0 = tensor_product_r(c_0,tensor_product_r(a_0,b_0))\n",
    "    vector_0_f = np.dot(Carry(),vector_0)\n",
    "    \n",
    "    \n",
    "    \n",
    "    "
   ]
  },
  {
   "cell_type": "code",
   "execution_count": null,
   "metadata": {},
   "outputs": [],
   "source": []
  },
  {
   "cell_type": "code",
   "execution_count": null,
   "metadata": {},
   "outputs": [],
   "source": []
  },
  {
   "cell_type": "code",
   "execution_count": null,
   "metadata": {},
   "outputs": [],
   "source": []
  },
  {
   "cell_type": "code",
   "execution_count": null,
   "metadata": {},
   "outputs": [],
   "source": []
  },
  {
   "cell_type": "code",
   "execution_count": null,
   "metadata": {},
   "outputs": [],
   "source": []
  }
 ],
 "metadata": {
  "kernelspec": {
   "display_name": "Python 3",
   "language": "python",
   "name": "python3"
  },
  "language_info": {
   "codemirror_mode": {
    "name": "ipython",
    "version": 3
   },
   "file_extension": ".py",
   "mimetype": "text/x-python",
   "name": "python",
   "nbconvert_exporter": "python",
   "pygments_lexer": "ipython3",
   "version": "3.7.3"
  }
 },
 "nbformat": 4,
 "nbformat_minor": 2
}
